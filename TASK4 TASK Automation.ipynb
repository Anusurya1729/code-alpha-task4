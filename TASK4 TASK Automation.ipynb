{
 "cells": [
  {
   "cell_type": "markdown",
   "id": "a1a6bad3",
   "metadata": {},
   "source": [
    "# Task Automation with Python Scripts"
   ]
  },
  {
   "cell_type": "markdown",
   "id": "611a83b7",
   "metadata": {},
   "source": [
    "# Automate Data Cleaning in Python"
   ]
  },
  {
   "cell_type": "code",
   "execution_count": 1,
   "id": "b7450409",
   "metadata": {},
   "outputs": [
    {
     "name": "stdout",
     "output_type": "stream",
     "text": [
      "      Name  Age       dob Price Quantity  Scores\n",
      "0      Anu   32  0.000731     5        2     NaN\n",
      "1     sonu    8  0.001735    10        5    88.0\n",
      "2   chachu    9  0.001984    15        3    75.0\n",
      "3     balu   27  0.000334    20        5    92.0\n",
      "4    Alice   25  0.000201    22        4    68.0\n",
      "5      Bob   30  0.000251    23        6     NaN\n",
      "6    Alice   25  0.000201    22        4    68.0\n",
      "7  Charlie   35  0.000126    35        7    70.0\n"
     ]
    }
   ],
   "source": [
    "import pandas as pd\n",
    "import numpy as np\n",
    "# Sample data with duplicates\n",
    "data = {'Name': ['Anu', 'sonu', 'chachu', 'balu','Alice', 'Bob', 'Alice', 'Charlie'], 'Age': [32,8,9,27,25, 30, 25, 35],\n",
    "        'dob':[16/11/1991,7/2/2017, 24/6/2016, 2/3/1998,2/5/1994,1/2/1992,2/5/1994,1/4/1989], \n",
    "        'Price': ['5', '10', '15','20','22','23', '22', '35'], \n",
    "        'Quantity': [2, 5, '3', '5', 4,6,4,'7'],'Scores': [np.nan, 88, 75, 92, 68,np.nan, 68,70]}\n",
    "df = pd.DataFrame(data)\n",
    "df\n",
    "print(df)\n"
   ]
  },
  {
   "cell_type": "markdown",
   "id": "265c752f",
   "metadata": {},
   "source": [
    "# Eliminating Duplicate Data"
   ]
  },
  {
   "cell_type": "code",
   "execution_count": 2,
   "id": "a8a8989c",
   "metadata": {},
   "outputs": [
    {
     "data": {
      "text/html": [
       "<div>\n",
       "<style scoped>\n",
       "    .dataframe tbody tr th:only-of-type {\n",
       "        vertical-align: middle;\n",
       "    }\n",
       "\n",
       "    .dataframe tbody tr th {\n",
       "        vertical-align: top;\n",
       "    }\n",
       "\n",
       "    .dataframe thead th {\n",
       "        text-align: right;\n",
       "    }\n",
       "</style>\n",
       "<table border=\"1\" class=\"dataframe\">\n",
       "  <thead>\n",
       "    <tr style=\"text-align: right;\">\n",
       "      <th></th>\n",
       "      <th>Name</th>\n",
       "      <th>Age</th>\n",
       "      <th>dob</th>\n",
       "      <th>Price</th>\n",
       "      <th>Quantity</th>\n",
       "      <th>Scores</th>\n",
       "    </tr>\n",
       "  </thead>\n",
       "  <tbody>\n",
       "    <tr>\n",
       "      <th>0</th>\n",
       "      <td>Anu</td>\n",
       "      <td>32</td>\n",
       "      <td>0.000731</td>\n",
       "      <td>5</td>\n",
       "      <td>2</td>\n",
       "      <td>NaN</td>\n",
       "    </tr>\n",
       "    <tr>\n",
       "      <th>1</th>\n",
       "      <td>sonu</td>\n",
       "      <td>8</td>\n",
       "      <td>0.001735</td>\n",
       "      <td>10</td>\n",
       "      <td>5</td>\n",
       "      <td>88.0</td>\n",
       "    </tr>\n",
       "    <tr>\n",
       "      <th>2</th>\n",
       "      <td>chachu</td>\n",
       "      <td>9</td>\n",
       "      <td>0.001984</td>\n",
       "      <td>15</td>\n",
       "      <td>3</td>\n",
       "      <td>75.0</td>\n",
       "    </tr>\n",
       "    <tr>\n",
       "      <th>3</th>\n",
       "      <td>balu</td>\n",
       "      <td>27</td>\n",
       "      <td>0.000334</td>\n",
       "      <td>20</td>\n",
       "      <td>5</td>\n",
       "      <td>92.0</td>\n",
       "    </tr>\n",
       "    <tr>\n",
       "      <th>4</th>\n",
       "      <td>Alice</td>\n",
       "      <td>25</td>\n",
       "      <td>0.000201</td>\n",
       "      <td>22</td>\n",
       "      <td>4</td>\n",
       "      <td>68.0</td>\n",
       "    </tr>\n",
       "    <tr>\n",
       "      <th>5</th>\n",
       "      <td>Bob</td>\n",
       "      <td>30</td>\n",
       "      <td>0.000251</td>\n",
       "      <td>23</td>\n",
       "      <td>6</td>\n",
       "      <td>NaN</td>\n",
       "    </tr>\n",
       "    <tr>\n",
       "      <th>7</th>\n",
       "      <td>Charlie</td>\n",
       "      <td>35</td>\n",
       "      <td>0.000126</td>\n",
       "      <td>35</td>\n",
       "      <td>7</td>\n",
       "      <td>70.0</td>\n",
       "    </tr>\n",
       "  </tbody>\n",
       "</table>\n",
       "</div>"
      ],
      "text/plain": [
       "      Name  Age       dob Price Quantity  Scores\n",
       "0      Anu   32  0.000731     5        2     NaN\n",
       "1     sonu    8  0.001735    10        5    88.0\n",
       "2   chachu    9  0.001984    15        3    75.0\n",
       "3     balu   27  0.000334    20        5    92.0\n",
       "4    Alice   25  0.000201    22        4    68.0\n",
       "5      Bob   30  0.000251    23        6     NaN\n",
       "7  Charlie   35  0.000126    35        7    70.0"
      ]
     },
     "execution_count": 2,
     "metadata": {},
     "output_type": "execute_result"
    }
   ],
   "source": [
    "# Removing duplicates\n",
    "# Display the cleaned data\n",
    "df = df.drop_duplicates()\n",
    "df\n"
   ]
  },
  {
   "cell_type": "markdown",
   "id": "a01ee9f0",
   "metadata": {},
   "source": [
    "# Handling Missing Values"
   ]
  },
  {
   "cell_type": "code",
   "execution_count": 3,
   "id": "959c44e2",
   "metadata": {},
   "outputs": [
    {
     "data": {
      "text/plain": [
       "Name        0\n",
       "Age         0\n",
       "dob         0\n",
       "Price       0\n",
       "Quantity    0\n",
       "Scores      2\n",
       "dtype: int64"
      ]
     },
     "execution_count": 3,
     "metadata": {},
     "output_type": "execute_result"
    }
   ],
   "source": [
    "#count missing values\n",
    "df.isnull().sum()"
   ]
  },
  {
   "cell_type": "code",
   "execution_count": 4,
   "id": "f7b10da5",
   "metadata": {},
   "outputs": [
    {
     "name": "stdout",
     "output_type": "stream",
     "text": [
      "Fill with mean:\n",
      "       Name  Age       dob Price Quantity  Scores\n",
      "0      Anu   32  0.000731     5        2    78.6\n",
      "1     sonu    8  0.001735    10        5    88.0\n",
      "2   chachu    9  0.001984    15        3    75.0\n",
      "3     balu   27  0.000334    20        5    92.0\n",
      "4    Alice   25  0.000201    22        4    68.0\n",
      "5      Bob   30  0.000251    23        6    78.6\n",
      "7  Charlie   35  0.000126    35        7    70.0\n",
      "\n",
      "Fill with median:\n",
      "       Name  Age       dob Price Quantity  Scores\n",
      "0      Anu   32  0.000731     5        2    78.6\n",
      "1     sonu    8  0.001735    10        5    88.0\n",
      "2   chachu    9  0.001984    15        3    75.0\n",
      "3     balu   27  0.000334    20        5    92.0\n",
      "4    Alice   25  0.000201    22        4    68.0\n",
      "5      Bob   30  0.000251    23        6    78.6\n",
      "7  Charlie   35  0.000126    35        7    70.0\n",
      "\n",
      "Custom fill value:\n",
      "       Name  Age       dob Price Quantity  Scores\n",
      "0      Anu   32  0.000731     5        2    78.6\n",
      "1     sonu    8  0.001735    10        5    88.0\n",
      "2   chachu    9  0.001984    15        3    75.0\n",
      "3     balu   27  0.000334    20        5    92.0\n",
      "4    Alice   25  0.000201    22        4    68.0\n",
      "5      Bob   30  0.000251    23        6    78.6\n",
      "7  Charlie   35  0.000126    35        7    70.0\n"
     ]
    }
   ],
   "source": [
    "# Fill missing values with the median\n",
    "df['Scores'].fillna(value=df['Scores'].mean(), inplace=True)\n",
    "print(\"Fill with mean:\\n\", df)\n",
    "print()\n",
    "\n",
    "# Fill missing values with the median\n",
    "df['Scores'].fillna(value=df['Scores'].median(), inplace=True)\n",
    "print(\"Fill with median:\\n\", df)\n",
    "print()\n",
    "\n",
    "# Custom method: Fill with a predetermined value\n",
    "df['Scores'].fillna(value=85, inplace=True)\n",
    "print(\"Custom fill value:\\n\", df)"
   ]
  },
  {
   "cell_type": "code",
   "execution_count": 5,
   "id": "0e03b4bf",
   "metadata": {},
   "outputs": [
    {
     "name": "stdout",
     "output_type": "stream",
     "text": [
      "<class 'pandas.core.frame.DataFrame'>\n",
      "Int64Index: 7 entries, 0 to 7\n",
      "Data columns (total 6 columns):\n",
      " #   Column    Non-Null Count  Dtype  \n",
      "---  ------    --------------  -----  \n",
      " 0   Name      7 non-null      object \n",
      " 1   Age       7 non-null      int64  \n",
      " 2   dob       7 non-null      float64\n",
      " 3   Price     7 non-null      object \n",
      " 4   Quantity  7 non-null      object \n",
      " 5   Scores    7 non-null      float64\n",
      "dtypes: float64(2), int64(1), object(3)\n",
      "memory usage: 392.0+ bytes\n"
     ]
    }
   ],
   "source": [
    "df.info()"
   ]
  },
  {
   "cell_type": "code",
   "execution_count": 6,
   "id": "a46e0eaa",
   "metadata": {},
   "outputs": [
    {
     "name": "stdout",
     "output_type": "stream",
     "text": [
      "Name         object\n",
      "Age           int64\n",
      "dob         float64\n",
      "Price        object\n",
      "Quantity     object\n",
      "Scores      float64\n",
      "dtype: object\n"
     ]
    }
   ],
   "source": [
    "print(df.dtypes)"
   ]
  },
  {
   "cell_type": "markdown",
   "id": "cbddba4f",
   "metadata": {},
   "source": [
    "#  Automatically Detecting and Converting Data Types in Python"
   ]
  },
  {
   "cell_type": "markdown",
   "id": "afb2b2fe",
   "metadata": {},
   "source": [
    "# infer_objects()"
   ]
  },
  {
   "cell_type": "code",
   "execution_count": 7,
   "id": "e1f89f57",
   "metadata": {},
   "outputs": [
    {
     "data": {
      "text/html": [
       "<div>\n",
       "<style scoped>\n",
       "    .dataframe tbody tr th:only-of-type {\n",
       "        vertical-align: middle;\n",
       "    }\n",
       "\n",
       "    .dataframe tbody tr th {\n",
       "        vertical-align: top;\n",
       "    }\n",
       "\n",
       "    .dataframe thead th {\n",
       "        text-align: right;\n",
       "    }\n",
       "</style>\n",
       "<table border=\"1\" class=\"dataframe\">\n",
       "  <thead>\n",
       "    <tr style=\"text-align: right;\">\n",
       "      <th></th>\n",
       "      <th>A</th>\n",
       "      <th>B</th>\n",
       "      <th>C</th>\n",
       "    </tr>\n",
       "  </thead>\n",
       "  <tbody>\n",
       "    <tr>\n",
       "      <th>0</th>\n",
       "      <td>sofia</td>\n",
       "      <td>2</td>\n",
       "      <td>amy</td>\n",
       "    </tr>\n",
       "    <tr>\n",
       "      <th>1</th>\n",
       "      <td>5</td>\n",
       "      <td>8</td>\n",
       "      <td>11</td>\n",
       "    </tr>\n",
       "    <tr>\n",
       "      <th>2</th>\n",
       "      <td>8</td>\n",
       "      <td>77</td>\n",
       "      <td>4</td>\n",
       "    </tr>\n",
       "    <tr>\n",
       "      <th>3</th>\n",
       "      <td>11</td>\n",
       "      <td>4</td>\n",
       "      <td>6</td>\n",
       "    </tr>\n",
       "    <tr>\n",
       "      <th>4</th>\n",
       "      <td>100</td>\n",
       "      <td>11</td>\n",
       "      <td>9</td>\n",
       "    </tr>\n",
       "  </tbody>\n",
       "</table>\n",
       "</div>"
      ],
      "text/plain": [
       "       A   B    C\n",
       "0  sofia   2  amy\n",
       "1      5   8   11\n",
       "2      8  77    4\n",
       "3     11   4    6\n",
       "4    100  11    9"
      ]
     },
     "execution_count": 7,
     "metadata": {},
     "output_type": "execute_result"
    }
   ],
   "source": [
    "# importing pandas as pd \n",
    "import pandas as pd \n",
    "  \n",
    "# Creating the dataframe  \n",
    "df1 = pd.DataFrame({\"A\":[\"sofia\", 5, 8, 11, 100], \n",
    "                   \"B\":[2, 8, 77, 4, 11], \n",
    "                   \"C\":[\"amy\", 11, 4, 6, 9]}) \n",
    "  \n",
    "# Print the dataframe \n",
    "df1 "
   ]
  },
  {
   "cell_type": "code",
   "execution_count": 8,
   "id": "396a4fce",
   "metadata": {},
   "outputs": [
    {
     "name": "stdout",
     "output_type": "stream",
     "text": [
      "<class 'pandas.core.frame.DataFrame'>\n",
      "RangeIndex: 5 entries, 0 to 4\n",
      "Data columns (total 3 columns):\n",
      " #   Column  Non-Null Count  Dtype \n",
      "---  ------  --------------  ----- \n",
      " 0   A       5 non-null      object\n",
      " 1   B       5 non-null      int64 \n",
      " 2   C       5 non-null      object\n",
      "dtypes: int64(1), object(2)\n",
      "memory usage: 248.0+ bytes\n"
     ]
    }
   ],
   "source": [
    "\n",
    "# to print the basic info \n",
    "df1.info() "
   ]
  },
  {
   "cell_type": "code",
   "execution_count": 9,
   "id": "76db7da9",
   "metadata": {},
   "outputs": [
    {
     "data": {
      "text/html": [
       "<div>\n",
       "<style scoped>\n",
       "    .dataframe tbody tr th:only-of-type {\n",
       "        vertical-align: middle;\n",
       "    }\n",
       "\n",
       "    .dataframe tbody tr th {\n",
       "        vertical-align: top;\n",
       "    }\n",
       "\n",
       "    .dataframe thead th {\n",
       "        text-align: right;\n",
       "    }\n",
       "</style>\n",
       "<table border=\"1\" class=\"dataframe\">\n",
       "  <thead>\n",
       "    <tr style=\"text-align: right;\">\n",
       "      <th></th>\n",
       "      <th>A</th>\n",
       "      <th>B</th>\n",
       "      <th>C</th>\n",
       "    </tr>\n",
       "  </thead>\n",
       "  <tbody>\n",
       "    <tr>\n",
       "      <th>1</th>\n",
       "      <td>5</td>\n",
       "      <td>8</td>\n",
       "      <td>11</td>\n",
       "    </tr>\n",
       "    <tr>\n",
       "      <th>2</th>\n",
       "      <td>8</td>\n",
       "      <td>77</td>\n",
       "      <td>4</td>\n",
       "    </tr>\n",
       "    <tr>\n",
       "      <th>3</th>\n",
       "      <td>11</td>\n",
       "      <td>4</td>\n",
       "      <td>6</td>\n",
       "    </tr>\n",
       "    <tr>\n",
       "      <th>4</th>\n",
       "      <td>100</td>\n",
       "      <td>11</td>\n",
       "      <td>9</td>\n",
       "    </tr>\n",
       "  </tbody>\n",
       "</table>\n",
       "</div>"
      ],
      "text/plain": [
       "     A   B   C\n",
       "1    5   8  11\n",
       "2    8  77   4\n",
       "3   11   4   6\n",
       "4  100  11   9"
      ]
     },
     "execution_count": 9,
     "metadata": {},
     "output_type": "execute_result"
    }
   ],
   "source": [
    "# slice from the 1st row till end \n",
    "df_new = df1[1:] \n",
    "  \n",
    "# Let's print the new data frame \n",
    "df_new \n",
    "  \n",
    "# Now let's print the data type of the columns \n",
    "#df_new.info() "
   ]
  },
  {
   "cell_type": "code",
   "execution_count": 10,
   "id": "67c03b1c",
   "metadata": {},
   "outputs": [
    {
     "name": "stdout",
     "output_type": "stream",
     "text": [
      "<class 'pandas.core.frame.DataFrame'>\n",
      "RangeIndex: 4 entries, 1 to 4\n",
      "Data columns (total 3 columns):\n",
      " #   Column  Non-Null Count  Dtype \n",
      "---  ------  --------------  ----- \n",
      " 0   A       4 non-null      object\n",
      " 1   B       4 non-null      int64 \n",
      " 2   C       4 non-null      object\n",
      "dtypes: int64(1), object(2)\n",
      "memory usage: 228.0+ bytes\n"
     ]
    }
   ],
   "source": [
    "# Now let's print the data type of the columns \n",
    "df_new.info() "
   ]
  },
  {
   "cell_type": "code",
   "execution_count": 11,
   "id": "daac2c11",
   "metadata": {},
   "outputs": [
    {
     "name": "stdout",
     "output_type": "stream",
     "text": [
      "<class 'pandas.core.frame.DataFrame'>\n",
      "RangeIndex: 4 entries, 1 to 4\n",
      "Data columns (total 3 columns):\n",
      " #   Column  Non-Null Count  Dtype\n",
      "---  ------  --------------  -----\n",
      " 0   A       4 non-null      int64\n",
      " 1   B       4 non-null      int64\n",
      " 2   C       4 non-null      int64\n",
      "dtypes: int64(3)\n",
      "memory usage: 228.0 bytes\n"
     ]
    }
   ],
   "source": [
    "\n",
    "# applying infer_objects() function. \n",
    "df_new = df_new.infer_objects() \n",
    "  \n",
    "# Print the dtype after applying the function \n",
    "df_new.info() "
   ]
  },
  {
   "cell_type": "markdown",
   "id": "7d937688",
   "metadata": {},
   "source": [
    "# File organization with python"
   ]
  },
  {
   "cell_type": "code",
   "execution_count": null,
   "id": "43d6e657",
   "metadata": {},
   "outputs": [],
   "source": [
    "import os\n",
    "import shutil\n",
    "#Shutil module offers high-level operation on a file like a copy, create, and remote operation on the file.\n",
    "path=input(\"enter path:\")\n",
    "files=os.listdir(path)\n",
    "for file in files:\n",
    "    filename,extension=os.path.splitext(file)\n",
    "    extension=extension[1:]\n",
    "    if os.path.exists(path+'/'+extension):\n",
    "        shutil.move(path+'/'+file, path+'/'+extension+'/'+file)\n",
    "    else:\n",
    "        os.makedirs(path+'/'+extension)\n",
    "        shutil.move(path+'/'+path+'/'+extension+'/'+file)\n",
    "#os.path.exists() method in Python is used to check whether the specified path exists or not. This method can be also used to check whether the given path refers to an open file descriptor or not.\n",
    "# os.makedirs()the os module raise OSError in the case of invalid or inaccessible file names and paths\n",
    "#The os.listdir() method in Python is used to get the list of all files and directories in the specified directory. "
   ]
  },
  {
   "cell_type": "code",
   "execution_count": null,
   "id": "e25c481a",
   "metadata": {},
   "outputs": [],
   "source": []
  },
  {
   "cell_type": "code",
   "execution_count": null,
   "id": "f8626164",
   "metadata": {},
   "outputs": [],
   "source": []
  }
 ],
 "metadata": {
  "kernelspec": {
   "display_name": "Python 3 (ipykernel)",
   "language": "python",
   "name": "python3"
  },
  "language_info": {
   "codemirror_mode": {
    "name": "ipython",
    "version": 3
   },
   "file_extension": ".py",
   "mimetype": "text/x-python",
   "name": "python",
   "nbconvert_exporter": "python",
   "pygments_lexer": "ipython3",
   "version": "3.9.13"
  }
 },
 "nbformat": 4,
 "nbformat_minor": 5
}
